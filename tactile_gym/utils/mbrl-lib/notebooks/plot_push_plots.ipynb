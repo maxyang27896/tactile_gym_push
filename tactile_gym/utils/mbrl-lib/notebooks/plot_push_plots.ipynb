{
 "cells": [
  {
   "cell_type": "code",
   "execution_count": 1,
   "metadata": {},
   "outputs": [],
   "source": [
    "import pandas as pd\n",
    "import numpy as np\n",
    "import os, sys, shutil\n",
    "import omegaconf\n",
    "import matplotlib.pyplot as plt\n",
    "\n",
    "from mbrl.util.plot_and_save_push_data import plot_and_save_push_plots\n",
    "\n",
    "from mbrl.util.patches import circles, polygons\n",
    "from mbrl.util.plot_shapes import SENSOR_POLYGON, REGULAR_OBJ_POLYGONS, REGULAR_OBJ_RADII\n"
   ]
  },
  {
   "cell_type": "code",
   "execution_count": 75,
   "metadata": {},
   "outputs": [],
   "source": [
    "def plot_and_save_push_plots(env_kwargs, df, data_columns, trials, directory, result_type):\n",
    "\n",
    "    loss_contact = False\n",
    "    for trial in range(trials):\n",
    "        fig_xy, ax = plt.subplots(figsize=(12, 6))\n",
    "        ax.plot(df.query(\"trial==@trial\")[\"tcp_x\"], df.query(\"trial==@trial\")[\"tcp_y\"], \"bs\", label='tcp psosition')\n",
    "        ax.plot(df.query(\"trial==@trial\").query(\"contact==@loss_contact\")[\"tcp_x\"], df.query(\"trial==@trial\").query(\"contact==@loss_contact\")[\"tcp_y\"], \"g+\", markersize=20)\n",
    "        ax.plot(df.query(\"trial==@trial\")[\"contact_x\"], df.query(\"trial==@trial\")[\"contact_y\"], \"rs\", label='contact psosition')\n",
    "        ax.plot(df.query(\"trial==@trial\").query(\"contact==@loss_contact\")[\"contact_x\"], df.query(\"trial==@trial\").query(\"contact==@loss_contact\")[\"contact_y\"], \"gx\", markersize=20)\n",
    "        ax.plot(df.query(\"trial==@trial\").query(\"goal_reached==True\")['goal_x'], df.query(\"trial==@trial\").query(\"goal_reached==True\")['goal_y'], \"x\", markersize=20, markeredgewidth=3, markeredgecolor=\"green\", label=\"reached goal\")\n",
    "        \n",
    "        # If last row is goal is not reached, plot last goal\n",
    "        if not df.query(\"trial==@trial\")[\"goal_reached\"].iloc[-1]:\n",
    "            ax.plot(df.query(\"trial==@trial\")['goal_x'].iloc[-1], df.query(\"trial==@trial\")['goal_y'].iloc[-1], \"x\", markersize=20, markeredgewidth=3, markeredgecolor=\"black\", label=\" not reached goal\")\n",
    "\n",
    "        df.query(\"trial==@trial\").query(\"goal_reached==True\")[['goal_x', 'goal_y']]\n",
    "\n",
    "        # Plot orn arrows\n",
    "        for i, rows in df.query(\"trial==@trial\").iterrows():\n",
    "            if i % 10 == 0:\n",
    "                tcp_x, tcp_y, tcp_Rz = rows[\"tcp_x\"], rows[\"tcp_y\"], rows[\"tcp_Rz\"]\n",
    "                tcp_dx, tcp_dy = 0.05 * np.cos(tcp_Rz), 0.05 * np.sin(tcp_Rz)\n",
    "                tcp_x, tcp_y = tcp_x + tcp_dx*0.2, tcp_y + tcp_dy*0.2\n",
    "                plt.arrow(tcp_x, tcp_y, tcp_dx, tcp_dy, color='b')\n",
    "                obj_x, obj_y, obj_Rz= rows[\"contact_x\"], rows[\"contact_y\"], rows[\"contact_Rz\"]\n",
    "                obj_dx, obj_dy = 0.05 * np.cos(obj_Rz), 0.05 * np.sin(obj_Rz)\n",
    "                obj_x, obj_y = obj_x + obj_dx*0.2, obj_y + obj_dy*0.2\n",
    "                plt.arrow(obj_x, obj_y, obj_dx, obj_dy, color='r')\n",
    "        \n",
    "        \n",
    "        ax.set_xlabel(\"x workframe\")\n",
    "        ax.set_ylabel(\"y workframe\")\n",
    "        ax.set_xlim([env_kwargs['env_modes']['tcp_lims'][0][0], env_kwargs['env_modes']['tcp_lims'][0][1]])\n",
    "        ax.set_ylim([env_kwargs['env_modes']['tcp_lims'][1][0], env_kwargs['env_modes']['tcp_lims'][1][1]])\n",
    "        ax.legend()\n",
    "        fig_xy.savefig(os.path.join(directory, \"workframe_plot_trial_{}.png\".format(trial)))\n",
    "        plt.close(fig_xy)\n",
    "\n",
    "        fig_time_xy, axs = plt.subplots(2, 2, figsize=(14, 7.5), gridspec_kw={\"width_ratios\": [1, 1]})\n",
    "        axs[0, 0].plot(df.query(\"trial==@trial\")[\"time_steps\"], df.query(\"trial==@trial\")[\"tcp_x\"], \"bs\", label='tcp ')\n",
    "        axs[0, 0].plot(df.query(\"trial==@trial\").query(\"contact==@loss_contact\")[\"time_steps\"], df.query(\"trial==@trial\").query(\"contact==@loss_contact\")[\"tcp_x\"], \"g+\", markersize=20)\n",
    "        axs[0, 0].plot(df.query(\"trial==@trial\")[\"time_steps\"], df.query(\"trial==@trial\")[\"contact_x\"], \"rs\", label='contact')\n",
    "        axs[0, 0].plot(df.query(\"trial==@trial\").query(\"contact==@loss_contact\")[\"time_steps\"], df.query(\"trial==@trial\").query(\"contact==@loss_contact\")[\"contact_x\"], \"gx\", markersize=20)\n",
    "        axs[0, 0].axhline(y=df.query(\"trial==@trial\")[\"goal_x\"].iloc[0], color='g', linestyle='-', linewidth=2)\n",
    "        axs[0, 0].set_xlabel(\"Time steps (s)\")\n",
    "        axs[0, 0].set_ylabel(\"x axis workframe\")\n",
    "        axs[0, 0].set_ylim([env_kwargs['env_modes']['tcp_lims'][0][0], env_kwargs['env_modes']['tcp_lims'][0][1]])\n",
    "        axs[0, 0].legend()\n",
    "        axs[0, 0].grid()\n",
    "\n",
    "        axs[0, 1].plot(df.query(\"trial==@trial\")[\"time_steps\"], df.query(\"trial==@trial\")[\"tcp_y\"], \"bs\", label='tcp')\n",
    "        axs[0, 1].plot(df.query(\"trial==@trial\").query(\"contact==@loss_contact\")[\"time_steps\"], df.query(\"trial==@trial\").query(\"contact==@loss_contact\")[\"tcp_y\"], \"g+\", markersize=20)\n",
    "        axs[0, 1].plot(df.query(\"trial==@trial\")[\"time_steps\"], df.query(\"trial==@trial\")[\"contact_y\"], \"rs\", label='contact')\n",
    "        axs[0, 1].plot(df.query(\"trial==@trial\").query(\"contact==@loss_contact\")[\"time_steps\"], df.query(\"trial==@trial\").query(\"contact==@loss_contact\")[\"contact_y\"], \"gx\", markersize=20)\n",
    "        axs[0, 1].axhline(y=df.query(\"trial==@trial\")[\"goal_y\"].iloc[0], color='g', linestyle='-', linewidth=2)\n",
    "        axs[0, 1].set_xlabel(\"Time steps (s)\")\n",
    "        axs[0, 1].set_ylabel(\"y axis workframe\")\n",
    "        axs[0, 1].set_ylim([env_kwargs['env_modes']['tcp_lims'][1][0], env_kwargs['env_modes']['tcp_lims'][1][1]])\n",
    "        axs[0, 1].legend()\n",
    "        axs[0, 1].grid()\n",
    "\n",
    "        # axs[1, 0].plot(df.query(\"trial==@trial\")[\"time_steps\"], df.query(\"trial==@trial\")[\"goal_Rz\"], \"gs\", label='goal Rz')\n",
    "        # axs[1, 0].plot(df.query(\"trial==@trial\")[\"time_steps\"], df.query(\"trial==@trial\")[\"contact_Rz\"], \"rs\", label='contact Rz')\n",
    "        # axs[1, 0].set_xlabel(\"Time steps (s)\")\n",
    "        # axs[1, 0].set_ylabel(\"contact Rz goal workframe\")\n",
    "        # axs[1, 0].legend()\n",
    "        # axs[1, 0].grid()\n",
    "\n",
    "        axs[1, 0].plot(df.query(\"trial==@trial\")[\"time_steps\"], abs(df.query(\"trial==@trial\")[\"goal_Rz\"] - df.query(\"trial==@trial\")[\"contact_Rz\"]), \"gs\", label='goal Rz')\n",
    "        axs[1, 0].axhline(y=0, color='b', linestyle='-', linewidth=2)\n",
    "        axs[1, 0].set_xlabel(\"Time steps (s)\")\n",
    "        axs[1, 0].set_ylabel(\"contact Rz goal workframe\")\n",
    "        axs[1, 0].set_ylim(-np.deg2rad(45), np.deg2rad(135))\n",
    "        axs[1, 0].grid()\n",
    "\n",
    "        axs[1, 1].plot(df.query(\"trial==@trial\")[\"time_steps\"], abs(df.query(\"trial==@trial\")[\"contact_Rz\"] - df.query(\"trial==@trial\")[\"tcp_Rz\"]), \"bs\", label='goal Rz')\n",
    "        axs[1, 1].axhline(y=0, color='g', linestyle='-', linewidth=2)\n",
    "        axs[1, 1].set_xlabel(\"Time steps (s)\")\n",
    "        axs[1, 1].set_ylabel(\"contact Rz tcp workframe\")\n",
    "        axs[1, 1].set_ylim(-np.deg2rad(10), np.deg2rad(30))\n",
    "        axs[1, 1].grid()\n",
    "        \n",
    "        fig_time_xy.savefig(os.path.join(directory, \"time_plot_trial_{}.png\".format(trial)))\n",
    "        plt.close(fig_time_xy)"
   ]
  },
  {
   "cell_type": "code",
   "execution_count": 76,
   "metadata": {},
   "outputs": [],
   "source": [
    "# work_dir = r\"/home/qt21590/Documents/Projects/tactile_gym_mbrl/training_model/john_reward\"\n",
    "# work_dir = r\"/home/qt21590/Documents/Projects/tactile_gym_mbrl/training_model/stochastic_icem_H25\"\n",
    "work_dir = os.path.join(os.getcwd(), 'training_model')\n",
    "env_kwargs_file = 'env_kwargs'\n",
    "env_kwargs_dir = os.path.join(work_dir, env_kwargs_file)\n",
    "env_kwargs = omegaconf.OmegaConf.load(env_kwargs_dir)\n",
    "\n",
    "# Plot evalation results\n",
    "evaluation_result_directory = os.path.join(work_dir, \"evaluation_result_model_65\")\n",
    "data_columns = ['trial','trial_steps', 'time_steps', 'tcp_x','tcp_y','tcp_z','contact_x', 'contact_y', 'contact_z', 'goal_x', 'goal_y', 'goal_Rz', 'goal_reached', 'rewards', 'contact', 'dones']\n",
    "df = pd.read_csv(os.path.join(evaluation_result_directory, 'evaluation_result.csv'))\n",
    "\n",
    "# Make new directory for saving plots\n",
    "save_directory = os.path.join(work_dir, \"push_plots\")\n",
    "if not os.path.exists(save_directory):\n",
    "    os.mkdir(save_directory)\n",
    "else:\n",
    "    for filename in os.listdir(save_directory):\n",
    "        file_path = os.path.join(save_directory, filename)\n",
    "        try:\n",
    "            if os.path.isfile(file_path) or os.path.islink(file_path):\n",
    "                os.unlink(file_path)\n",
    "            elif os.path.isdir(file_path):\n",
    "                shutil.rmtree(file_path)\n",
    "        except Exception as e:\n",
    "            print('Failed to delete %s. Reason: %s' % (file_path, e))\n",
    "\n",
    "plot_and_save_push_plots(env_kwargs, df, data_columns, 1, save_directory, 'evaluation')\n"
   ]
  },
  {
   "cell_type": "code",
   "execution_count": 74,
   "metadata": {},
   "outputs": [
    {
     "data": {
      "text/plain": [
       "0.0"
      ]
     },
     "execution_count": 74,
     "metadata": {},
     "output_type": "execute_result"
    }
   ],
   "source": [
    "df.query(\"trial==@trial\")[\"goal_reached\"].iloc[-1]"
   ]
  }
 ],
 "metadata": {
  "kernelspec": {
   "display_name": "Python 3.9.12 ('tactile_gym_mbrl')",
   "language": "python",
   "name": "python3"
  },
  "language_info": {
   "codemirror_mode": {
    "name": "ipython",
    "version": 3
   },
   "file_extension": ".py",
   "mimetype": "text/x-python",
   "name": "python",
   "nbconvert_exporter": "python",
   "pygments_lexer": "ipython3",
   "version": "3.9.12"
  },
  "orig_nbformat": 4,
  "vscode": {
   "interpreter": {
    "hash": "288c20f4f30562b85a793c8b692fd9c626a3a2ddfa32fea47b77030b2eed9a18"
   }
  }
 },
 "nbformat": 4,
 "nbformat_minor": 2
}
