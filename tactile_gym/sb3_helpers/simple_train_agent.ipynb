{
 "cells": [
  {
   "cell_type": "code",
   "execution_count": 1,
   "metadata": {},
   "outputs": [
    {
     "name": "stderr",
     "output_type": "stream",
     "text": [
      "pybullet build time: Mar  8 2021 17:26:24\n"
     ]
    }
   ],
   "source": [
    "import gym\n",
    "import torch as th\n",
    "import kornia.augmentation as K\n",
    "import matplotlib.pyplot as plt\n",
    "import numpy as np\n",
    "import time\n",
    "import torch\n",
    "import os, sys\n",
    "from collections import deque\n",
    "\n",
    "from stable_baselines3 import PPO, SAC, HerReplayBuffer\n",
    "# from sb3_contrib import RAD_SAC, RAD_PPO\n",
    "\n",
    "from stable_baselines3.common.vec_env import DummyVecEnv, SubprocVecEnv\n",
    "from stable_baselines3.common.env_util import make_vec_env\n",
    "from stable_baselines3.common.callbacks import EvalCallback, EveryNTimesteps, BaseCallback\n",
    "from stable_baselines3.common.monitor import Monitor\n",
    "from stable_baselines3.common.results_plotter import load_results, ts2xy\n",
    "\n",
    "from stable_baselines3.common.vec_env import (\n",
    "    DummyVecEnv,\n",
    "    SubprocVecEnv,\n",
    "    VecTransposeImage,\n",
    "    VecFrameStack,\n",
    ")\n",
    "\n",
    "import tactile_gym.rl_envs\n",
    "from tactile_gym.sb3_helpers.custom.custom_torch_layers import CustomCombinedExtractor\n",
    "from tactile_gym.sb3_helpers.params import import_parameters\n",
    "from tactile_gym.sb3_helpers.rl_utils import make_training_envs, make_eval_env\n",
    "from tactile_gym.sb3_helpers.eval_agent_utils import final_evaluation\n",
    "from tactile_gym.sb3_helpers.rl_plot_utils import plot_train_and_eval\n",
    "from tactile_gym.utils.general_utils import (\n",
    "    save_json_obj,\n",
    "    print_sorted_dict,\n",
    "    convert_json,\n",
    "    check_dir,\n",
    ")\n",
    "\n",
    "from tactile_gym.sb3_helpers.custom.custom_callbacks import (\n",
    "    FullPlottingCallback,\n",
    "    ProgressBarManager,)\n",
    "\n",
    "# produce a display to render image\n",
    "from pyvirtualdisplay import Display\n",
    "_display = Display(visible=False, size=(1400, 900))\n",
    "_ = _display.start()"
   ]
  },
  {
   "cell_type": "code",
   "execution_count": 2,
   "metadata": {},
   "outputs": [
    {
     "name": "stdout",
     "output_type": "stream",
     "text": [
      "[[0.037539 -0.188236]\n",
      " [0.022050 -0.071573]\n",
      " [0.162678 0.100856]\n",
      " [0.029640 0.259405]\n",
      " [0.106900 -0.018980]\n",
      " [-0.164672 -0.123981]\n",
      " [-0.058325 -0.118775]\n",
      " [0.085345 -0.218108]\n",
      " [-0.111749 0.167116]\n",
      " [0.036803 0.051918]]\n"
     ]
    }
   ],
   "source": [
    "from stable_baselines3.common.noise import NormalActionNoise, VectorizedActionNoise\n",
    "action_noise = NormalActionNoise(np.zeros((10,2)), np.ones((10,2))*0.1)\n",
    "print(action_noise())"
   ]
  },
  {
   "cell_type": "code",
   "execution_count": 3,
   "metadata": {},
   "outputs": [],
   "source": [
    "# choose which RL algo to use\n",
    "algo_name = 'sac'\n",
    "# algo_name = 'sac_her'\n",
    "# algo_name = 'rad_ppo'\n",
    "# algo_name = 'sac'\n",
    "# algo_name = 'rad_sac'\n",
    "\n",
    "# env_name = \"edge_follow-v0\"\n",
    "# env_name = 'surface_follow-v0'\n",
    "# env_name = 'object_roll-v0'\n",
    "env_name = 'object_push-v0'\n",
    "# env_name = 'object_balance-v0'\n",
    "\n",
    "# import paramters\n",
    "rl_params, algo_params, augmentations = import_parameters(env_name, algo_name)\n",
    "rl_params[\"total_timesteps\"] = 2000000\n",
    "rl_params[\"eval_freq\"] = 10000\n",
    "rl_params[\"n_envs\"] = 1\n",
    "rl_params[\"max_ep_len\"] = 1000\n",
    "# her_kwargs = dict(n_sampled_goal=4, goal_selection_strategy='future', online_sampling=True, max_episode_length=1000)\n",
    "# algo_params[\"replay_buffer_kwargs\"] = her_kwargs\n",
    "\n",
    "# Define environment parameters\n",
    "rl_params[\"env_modes\"][\"observation_mode\"] = \"goal_aware_tactile_pose_relative\"\n",
    "rl_params[\"env_modes\"][ 'control_mode'] = 'TCP_position_control'\n",
    "rl_params[\"env_modes\"][ 'terminate_early']  = True\n",
    "rl_params[\"env_modes\"]['terminate_terminate_early'] = False\n",
    "rl_params[\"env_modes\"]['terminate_using_center'] = False\n",
    "rl_params[\"env_modes\"]['reward_using_center'] = False\n",
    "rl_params[\"env_modes\"][ 'use_contact'] = True\n",
    "rl_params[\"env_modes\"][ 'traj_type'] = 'point'\n",
    "rl_params[\"env_modes\"][ 'task'] = \"goal_pos\"\n",
    "rl_params[\"env_modes\"][ 'reward_mode'] = \"dense\"\n",
    "rl_params[\"env_modes\"]['planar_states'] = True\n",
    "\n",
    "rl_params[\"env_modes\"]['additional_reward_settings'] = 'john_guide_off_normal'\n",
    "rl_params[\"env_modes\"]['importance_obj_goal_pos'] = 1.0\n",
    "rl_params[\"env_modes\"]['importance_obj_goal_orn'] = 1.0\n",
    "rl_params[\"env_modes\"]['importance_tip_obj_orn'] = 1.0    \n",
    "rl_params[\"env_modes\"]['terminated_early_penalty'] = -100\n",
    "rl_params[\"env_modes\"]['reached_goal_reward'] = 100\n",
    "rl_params[\"env_modes\"]['terminated_early_penalty'] = 0\n",
    "rl_params[\"env_modes\"]['reached_goal_reward'] = 0\n",
    "\n",
    "rl_params[\"env_modes\"]['max_no_contact_steps'] = 1000\n",
    "rl_params[\"env_modes\"]['max_tcp_to_obj_orn'] = 180/180 * np.pi\n",
    "\n",
    "# set limits and goals\n",
    "TCP_lims = np.zeros(shape=(6, 2))\n",
    "TCP_lims[0, 0], TCP_lims[0, 1] = -0.1, 0.3  # x lims\n",
    "TCP_lims[1, 0], TCP_lims[1, 1] = -0.3, 0.3  # y lims\n",
    "TCP_lims[2, 0], TCP_lims[2, 1] = -0.0, 0.0  # z lims\n",
    "TCP_lims[3, 0], TCP_lims[3, 1] = -0.0, 0.0  # roll lims\n",
    "TCP_lims[4, 0], TCP_lims[4, 1] = -0.0, 0.0  # pitch lims\n",
    "TCP_lims[5, 0], TCP_lims[5, 1] = -180 * np.pi / 180, 180 * np.pi / 180  # yaw lims\n",
    "\n",
    "# goal parameter\n",
    "# goal_edges = [(0, -1), (0, 1), (1, 0)] # Top bottom and stright\n",
    "goal_edges = [(1, 0)]\n",
    "goal_x_max = np.float64(TCP_lims[0, 1] * 0.9).item()\n",
    "goal_x_min = 0.0 # np.float64(TCP_lims[0, 0] * 0.6).item()\n",
    "goal_y_max = np.float64(TCP_lims[1, 1] * 0.6).item()\n",
    "goal_y_min = np.float64(TCP_lims[1, 0] * 0.6).item()\n",
    "goal_ranges = [goal_x_min, goal_x_max, goal_y_min, goal_y_max]\n",
    "\n",
    "rl_params[\"env_modes\"]['tcp_lims'] = TCP_lims.tolist()\n",
    "rl_params[\"env_modes\"]['goal_edges'] = goal_edges\n",
    "rl_params[\"env_modes\"]['goal_ranges'] = goal_ranges"
   ]
  },
  {
   "cell_type": "code",
   "execution_count": 4,
   "metadata": {},
   "outputs": [
    {
     "name": "stdout",
     "output_type": "stream",
     "text": [
      "argv[0]=\n",
      "Loaded EGL 1.5 after reload.\n",
      "GL_VENDOR=NVIDIA Corporation\n",
      "GL_RENDERER=NVIDIA GeForce RTX 3090/PCIe/SSE2\n",
      "GL_VERSION=4.6.0 NVIDIA 495.29.05\n",
      "GL_SHADING_LANGUAGE_VERSION=4.60 NVIDIA\n",
      "Version = 4.6.0 NVIDIA 495.29.05\n",
      "Vendor = NVIDIA Corporation\n",
      "Renderer = NVIDIA GeForce RTX 3090/PCIe/SSE2\n",
      "ven = NVIDIA Corporation\n",
      "ven = NVIDIA Corporation\n"
     ]
    }
   ],
   "source": [
    "# env = gym.make(env_name,\n",
    "#     max_steps=rl_params[\"max_ep_len\"],\n",
    "#     image_size=rl_params[\"image_size\"],\n",
    "#     env_modes=rl_params[\"env_modes\"],\n",
    "#     obs_stacked_len=4,\n",
    "#     show_gui=False,\n",
    "#     show_tactile=False,\n",
    "# )"
   ]
  },
  {
   "cell_type": "code",
   "execution_count": 5,
   "metadata": {},
   "outputs": [
    {
     "name": "stdout",
     "output_type": "stream",
     "text": [
      "{'oracle': array([[0.000000, 0.000000, 0.000000, 0.000000, 0.000000, 0.000000,\n",
      "        0.000000, 0.000000],\n",
      "       [0.000000, 0.000000, 0.000000, 0.000000, 0.000000, 0.000000,\n",
      "        0.000000, 0.000000],\n",
      "       [0.000869, 0.000002, 0.000003, 1.000000, -0.270000, 0.038704,\n",
      "        0.071129, 0.997467],\n",
      "       [0.001125, -0.000023, -0.001252, 0.999999, -0.269344, 0.039192,\n",
      "        0.069926, 0.997552]])}\n",
      "{'oracle': array([[0.000000, 0.000000, 0.000000, 0.000000, 0.000000, 0.000000,\n",
      "        0.000000, 0.000000],\n",
      "       [0.000869, 0.000002, 0.000003, 1.000000, -0.270000, 0.038704,\n",
      "        0.071129, 0.997467],\n",
      "       [0.001125, -0.000023, -0.001252, 0.999999, -0.269344, 0.039192,\n",
      "        0.069926, 0.997552],\n",
      "       [0.001281, -0.000028, -0.004663, 0.999989, -0.268752, 0.038982,\n",
      "        0.071764, 0.997422]])}\n",
      "{'oracle': array([[0.000869, 0.000002, 0.000003, 1.000000, -0.270000, 0.038704,\n",
      "        0.071129, 0.997467],\n",
      "       [0.001125, -0.000023, -0.001252, 0.999999, -0.269344, 0.039192,\n",
      "        0.069926, 0.997552],\n",
      "       [0.001281, -0.000028, -0.004663, 0.999989, -0.268752, 0.038982,\n",
      "        0.071764, 0.997422],\n",
      "       [0.001287, -0.000030, -0.008812, 0.999961, -0.267904, 0.038264,\n",
      "        0.073487, 0.997296]])}\n",
      "{'oracle': array([[0.001125, -0.000023, -0.001252, 0.999999, -0.269344, 0.039192,\n",
      "        0.069926, 0.997552],\n",
      "       [0.001281, -0.000028, -0.004663, 0.999989, -0.268752, 0.038982,\n",
      "        0.071764, 0.997422],\n",
      "       [0.001287, -0.000030, -0.008812, 0.999961, -0.267904, 0.038264,\n",
      "        0.073487, 0.997296],\n",
      "       [0.001354, -0.000032, -0.014100, 0.999901, -0.267139, 0.037535,\n",
      "        0.076900, 0.997039]])}\n"
     ]
    }
   ],
   "source": [
    "# print(env.observation_space)\n",
    "\n",
    "# env.reset()\n",
    "# for i in range(4):\n",
    "#     obs, _, done, _ = env.step(env.action_space.sample())\n",
    "#     print(obs)\n",
    "#     if done:\n",
    "#         break\n",
    "\n",
    "# print(eval_env.dense_reward())\n",
    "# print(eval_env.compute_dense_reward())"
   ]
  },
  {
   "cell_type": "code",
   "execution_count": 8,
   "metadata": {},
   "outputs": [],
   "source": [
    "# class stacked_states:\n",
    "#     def __init__(self, stacked_num, states_num):\n",
    "#         self.stacked_num = stacked_num\n",
    "#         self.states_num = states_num\n",
    "#         self.values = np.zeros((stacked_num, states_num))\n",
    "\n",
    "#     def append(self, state):\n",
    "#         self.values = np.append(self.values, state, axis = 0)\n",
    "\n",
    "# obs = stacked_states(4, 8)\n",
    "# obs.append(np.random.rand(1, 8))\n",
    "# print(obs.values)"
   ]
  },
  {
   "cell_type": "code",
   "execution_count": null,
   "metadata": {},
   "outputs": [
    {
     "name": "stdout",
     "output_type": "stream",
     "text": [
      "-1.2880933130772658\n",
      "-1.288093279495268\n",
      "-1.288093279495268\n",
      "-1.288093279495268\n"
     ]
    }
   ],
   "source": [
    "# env.reset()\n",
    "# print(env.dense_reward())\n",
    "\n",
    "# if env.observation_mode == \"tactile_pose_goal_excluded_goal_based\":\n",
    "#     obs = env.get_tactile_pose_obs_goal_exluded()\n",
    "#     goals = env.get_tactile_pose_goal_exluded_goal_obs()\n",
    "\n",
    "# elif env.observation_mode == \"tactile_pose_goal_based\":\n",
    "#     obs = env.get_tactile_pose_obs()\n",
    "#     goals = env.get_tactile_pose_goal_obs()\n",
    "\n",
    "# elif env.observation_mode == \"tactile_pose_updated_goal_based\":\n",
    "#     obs = env.get_tactile_pose_updated_obs()\n",
    "#     goals = env.get_tactile_pose_updated_goal_obs()\n",
    "\n",
    "# obs = np.expand_dims(obs ,0)\n",
    "# goals = np.expand_dims(goals ,0)\n",
    "# print(env.compute_reward(obs, goals, {})[0])\n",
    "\n",
    "# obs = env.get_observation()\n",
    "# print(env.compute_reward(np.expand_dims(obs['observation'], 0), np.expand_dims(obs['desired_goal'], 0), {})[0])\n",
    "# print(env.compute_dense_reward())\n",
    "\n",
    "# print(env.envs[0].dense_reward())\n",
    "# print(env.envs[0].dense_goal_reward())\n",
    "# print(abs(env.envs[0].get_tactile_pose_obs_goal_exluded() - env.envs[0].get_goal_obs()))\n",
    "# print(abs(env.envs[0].get_observation()[\"observation\"] - env.envs[0].get_goal_obs()))\n",
    "# print(env.envs[0].get_tactile_pose_obs())\n",
    "# print(env.envs[0].reward_weights)"
   ]
  },
  {
   "cell_type": "code",
   "execution_count": 4,
   "metadata": {},
   "outputs": [
    {
     "name": "stdout",
     "output_type": "stream",
     "text": [
      "saved_models/object_push-v0/sac/s1_goal_aware_tactile_pose_relative\n"
     ]
    }
   ],
   "source": [
    "# create save dir\n",
    "save_dir = os.path.join(\n",
    "    \"saved_models/\", rl_params[\"env_name\"], algo_name, \"s{}_{}\".format(rl_params[\"seed\"], rl_params[\"env_modes\"][\"observation_mode\"])\n",
    ")\n",
    "check_dir(save_dir)\n",
    "os.makedirs(save_dir, exist_ok=True)\n",
    "print(save_dir)"
   ]
  },
  {
   "cell_type": "code",
   "execution_count": null,
   "metadata": {},
   "outputs": [],
   "source": [
    "# # save params\n",
    "# save_json_obj(convert_json(rl_params), os.path.join(save_dir, \"rl_params\"))\n",
    "# save_json_obj(convert_json(algo_params), os.path.join(save_dir, \"algo_params\"))\n",
    "# if 'rad' in algo_name:\n",
    "#     save_json_obj(convert_json(augmentations), os.path.join(save_dir, \"augmentations\"))"
   ]
  },
  {
   "cell_type": "code",
   "execution_count": 5,
   "metadata": {},
   "outputs": [],
   "source": [
    "seed = 1\n",
    "n_envs = 1\n",
    "show_gui = False\n",
    "show_tactile = False"
   ]
  },
  {
   "cell_type": "code",
   "execution_count": 6,
   "metadata": {},
   "outputs": [
    {
     "name": "stdout",
     "output_type": "stream",
     "text": [
      "argv[0]=\n",
      "Loaded EGL 1.5 after reload.\n",
      "GL_VENDOR=NVIDIA Corporation\n",
      "GL_RENDERER=NVIDIA GeForce RTX 3090/PCIe/SSE2\n",
      "GL_VERSION=4.6.0 NVIDIA 495.29.05\n",
      "GL_SHADING_LANGUAGE_VERSION=4.60 NVIDIA\n",
      "Version = 4.6.0 NVIDIA 495.29.05\n",
      "Vendor = NVIDIA Corporation\n",
      "Renderer = NVIDIA GeForce RTX 3090/PCIe/SSE2\n",
      "ven = NVIDIA Corporation\n",
      "ven = NVIDIA Corporation\n"
     ]
    }
   ],
   "source": [
    "env = make_vec_env(env_name,\n",
    "                  env_kwargs={\n",
    "                    'show_gui':False,\n",
    "                    'show_tactile':False,\n",
    "                    'obs_stacked_len': 4,\n",
    "                    'max_steps':rl_params[\"max_ep_len\"],\n",
    "                    'image_size':rl_params[\"image_size\"],\n",
    "                    'env_modes':rl_params[\"env_modes\"],\n",
    "                    },\n",
    "                  n_envs=n_envs,\n",
    "                  monitor_dir=save_dir,\n",
    "                  seed=seed,\n",
    "                  vec_env_cls=DummyVecEnv\n",
    "                  )"
   ]
  },
  {
   "cell_type": "code",
   "execution_count": 7,
   "metadata": {},
   "outputs": [
    {
     "name": "stdout",
     "output_type": "stream",
     "text": [
      "Box(2,)\n",
      "Dict(oracle:Box(4, 8))\n"
     ]
    }
   ],
   "source": [
    "print(env.action_space)\n",
    "print(env.observation_space)"
   ]
  },
  {
   "cell_type": "code",
   "execution_count": 8,
   "metadata": {},
   "outputs": [
    {
     "name": "stdout",
     "output_type": "stream",
     "text": [
      "OrderedDict([('oracle', array([[[0.000000, 0.000000, 0.000000, 0.000000, 0.000000, 0.000000,\n",
      "         0.000000, 0.000000],\n",
      "        [0.000000, 0.000000, 0.000000, 0.000000, 0.000000, 0.000000,\n",
      "         0.000000, 0.000000],\n",
      "        [0.000000, 0.000000, 0.000000, 0.000000, 0.000000, 0.000000,\n",
      "         0.000000, 0.000000],\n",
      "        [0.000869, 0.000002, 0.000003, 1.000000, -0.270000, -0.110661,\n",
      "         -0.193262, 0.981147]]], dtype=float32))])\n"
     ]
    }
   ],
   "source": [
    "obs = env.reset()\n",
    "print(np.array(obs))"
   ]
  },
  {
   "cell_type": "code",
   "execution_count": 9,
   "metadata": {},
   "outputs": [
    {
     "name": "stdout",
     "output_type": "stream",
     "text": [
      "argv[0]=\n",
      "Loaded EGL 1.5 after reload.\n",
      "GL_VENDOR=NVIDIA Corporation\n",
      "GL_RENDERER=NVIDIA GeForce RTX 3090/PCIe/SSE2\n",
      "GL_VERSION=4.6.0 NVIDIA 495.29.05\n",
      "GL_SHADING_LANGUAGE_VERSION=4.60 NVIDIA\n",
      "Version = 4.6.0 NVIDIA 495.29.05\n",
      "Vendor = NVIDIA Corporation\n",
      "Renderer = NVIDIA GeForce RTX 3090/PCIe/SSE2\n",
      "ven = NVIDIA Corporation\n",
      "ven = NVIDIA Corporation\n"
     ]
    }
   ],
   "source": [
    "\"\"\"\n",
    "Make a single environment with visualisation specified.\n",
    "\"\"\"\n",
    "rl_params[\"env_modes\"]['eval_mode'] = True\n",
    "rl_params[\"env_modes\"]['eval_num'] = rl_params[\"n_eval_episodes\"]\n",
    "eval_env = gym.make(env_name,\n",
    "    max_steps=rl_params[\"max_ep_len\"],\n",
    "    image_size=rl_params[\"image_size\"],\n",
    "    env_modes=rl_params[\"env_modes\"],\n",
    "    obs_stacked_len=4,\n",
    "    show_gui=show_gui,\n",
    "    show_tactile=show_tactile,\n",
    ")\n",
    "\n",
    "# wrap in monitor\n",
    "eval_env = Monitor(eval_env)\n",
    "\n",
    "# dummy vec env generally faster than SubprocVecEnv for small networks \n",
    "eval_env = DummyVecEnv([lambda: eval_env])"
   ]
  },
  {
   "cell_type": "code",
   "execution_count": 10,
   "metadata": {},
   "outputs": [],
   "source": [
    "# define callbacks\n",
    "eval_callback = EvalCallback(\n",
    "    eval_env,\n",
    "    best_model_save_path=os.path.join(save_dir, \"trained_models/\"),\n",
    "    log_path=os.path.join(save_dir, \"trained_models/\"),\n",
    "    eval_freq=rl_params[\"eval_freq\"],\n",
    "    n_eval_episodes=rl_params[\"n_eval_episodes\"],\n",
    "    deterministic=True,\n",
    "    render=False,\n",
    "    verbose=1,\n",
    ")\n",
    "\n",
    "class PrintTrainingProgess(BaseCallback):\n",
    "    \"\"\"\n",
    "    Callback for saving a model (the check is done every ``check_freq`` steps)\n",
    "    based on the training reward (in practice, we recommend using ``EvalCallback``).\n",
    "\n",
    "    :param check_freq: (int)\n",
    "    :param log_dir: (str) Path to the folder where the model will be saved.\n",
    "      It must contains the file created by the ``Monitor`` wrapper.\n",
    "    :param verbose: (int)\n",
    "    \"\"\"\n",
    "    def __init__(self, check_freq: int, log_dir: str, verbose=1):\n",
    "        super(PrintTrainingProgess, self).__init__(verbose)\n",
    "        self.check_freq = check_freq\n",
    "        self.log_dir = log_dir\n",
    "        self.save_path = os.path.join(log_dir, 'best_model')\n",
    "        self.best_mean_reward = -np.inf\n",
    "        self.start_time = 0\n",
    "\n",
    "    def _init_callback(self) -> None:\n",
    "      pass\n",
    "\n",
    "    def _on_step(self) -> bool:\n",
    "        if self.n_calls % self.check_freq == 0:\n",
    "        \n",
    "          # Retrieve training reward\n",
    "          x, y = ts2xy(load_results(self.log_dir), 'timesteps')\n",
    "          if len(x) > 0:\n",
    "              # Mean training reward over the last 50 episodes\n",
    "              mean_reward = np.mean(y[-50:])\n",
    "              if self.verbose > 0:\n",
    "                print(\"Elapsed Time {} steps: {}s\".format(self.check_freq, time.time() - self.start_time))\n",
    "                print(f\"Best mean reward: {self.best_mean_reward:.2f} - Last mean reward per episode: {mean_reward:.2f}\")\n",
    "                self.start_time = time.time()\n",
    "\n",
    "              # New best model, you could save the agent here\n",
    "              if mean_reward > self.best_mean_reward:\n",
    "                  self.best_mean_reward = mean_reward\n",
    "\n",
    "    \n",
    "        return True\n",
    "\n",
    "\n",
    "plotting_callback = FullPlottingCallback(log_dir=save_dir, total_timesteps=rl_params['total_timesteps'])\n",
    "event_plotting_callback = EveryNTimesteps(n_steps=rl_params['eval_freq']*rl_params['n_envs'], callback=plotting_callback)\n",
    "print_callback = PrintTrainingProgess(check_freq=rl_params['eval_freq']*rl_params['n_envs'], log_dir=save_dir)"
   ]
  },
  {
   "cell_type": "code",
   "execution_count": 11,
   "metadata": {},
   "outputs": [
    {
     "name": "stdout",
     "output_type": "stream",
     "text": [
      "Using cuda device\n"
     ]
    }
   ],
   "source": [
    "if algo_name == 'ppo':\n",
    "    model = PPO(\n",
    "        rl_params[\"policy\"],\n",
    "        env,\n",
    "        **algo_params,\n",
    "        verbose=1\n",
    "    )\n",
    "elif algo_name == 'sac':\n",
    "    model = SAC(\n",
    "        rl_params[\"policy\"],\n",
    "        env,\n",
    "        **algo_params,\n",
    "        verbose=1\n",
    "    )\n",
    "elif algo_name == 'sac_her':\n",
    "    model = SAC(\n",
    "        rl_params[\"policy\"],\n",
    "        env,\n",
    "        replay_buffer_class=HerReplayBuffer,\n",
    "        **algo_params,\n",
    "        verbose=1\n",
    "    )\n",
    "else:\n",
    "    sys.exit(\"Incorrect algorithm specified: {}.\".format(algo_name))"
   ]
  },
  {
   "cell_type": "code",
   "execution_count": 12,
   "metadata": {},
   "outputs": [
    {
     "name": "stdout",
     "output_type": "stream",
     "text": [
      "MultiInputPolicy(\n",
      "  (actor): Actor(\n",
      "    (features_extractor): CustomCombinedExtractor(\n",
      "      (mlp_extractor): Sequential(\n",
      "        (0): Linear(in_features=32, out_features=64, bias=True)\n",
      "        (1): Tanh()\n",
      "        (2): Linear(in_features=64, out_features=64, bias=True)\n",
      "      )\n",
      "      (cnn_extractors): ModuleDict()\n",
      "      (flatten_extractors): ModuleDict(\n",
      "        (oracle): Flatten(start_dim=1, end_dim=-1)\n",
      "      )\n",
      "    )\n",
      "    (latent_pi): Sequential(\n",
      "      (0): Linear(in_features=64, out_features=256, bias=True)\n",
      "      (1): Tanh()\n",
      "      (2): Linear(in_features=256, out_features=256, bias=True)\n",
      "      (3): Tanh()\n",
      "    )\n",
      "    (mu): Linear(in_features=256, out_features=2, bias=True)\n",
      "    (log_std): Linear(in_features=256, out_features=2, bias=True)\n",
      "  )\n",
      "  (critic): ContinuousCritic(\n",
      "    (features_extractor): CustomCombinedExtractor(\n",
      "      (mlp_extractor): Sequential(\n",
      "        (0): Linear(in_features=32, out_features=64, bias=True)\n",
      "        (1): Tanh()\n",
      "        (2): Linear(in_features=64, out_features=64, bias=True)\n",
      "      )\n",
      "      (cnn_extractors): ModuleDict()\n",
      "      (flatten_extractors): ModuleDict(\n",
      "        (oracle): Flatten(start_dim=1, end_dim=-1)\n",
      "      )\n",
      "    )\n",
      "    (qf0): Sequential(\n",
      "      (0): Linear(in_features=66, out_features=256, bias=True)\n",
      "      (1): Tanh()\n",
      "      (2): Linear(in_features=256, out_features=256, bias=True)\n",
      "      (3): Tanh()\n",
      "      (4): Linear(in_features=256, out_features=1, bias=True)\n",
      "    )\n",
      "    (qf1): Sequential(\n",
      "      (0): Linear(in_features=66, out_features=256, bias=True)\n",
      "      (1): Tanh()\n",
      "      (2): Linear(in_features=256, out_features=256, bias=True)\n",
      "      (3): Tanh()\n",
      "      (4): Linear(in_features=256, out_features=1, bias=True)\n",
      "    )\n",
      "  )\n",
      "  (critic_target): ContinuousCritic(\n",
      "    (features_extractor): CustomCombinedExtractor(\n",
      "      (mlp_extractor): Sequential(\n",
      "        (0): Linear(in_features=32, out_features=64, bias=True)\n",
      "        (1): Tanh()\n",
      "        (2): Linear(in_features=64, out_features=64, bias=True)\n",
      "      )\n",
      "      (cnn_extractors): ModuleDict()\n",
      "      (flatten_extractors): ModuleDict(\n",
      "        (oracle): Flatten(start_dim=1, end_dim=-1)\n",
      "      )\n",
      "    )\n",
      "    (qf0): Sequential(\n",
      "      (0): Linear(in_features=66, out_features=256, bias=True)\n",
      "      (1): Tanh()\n",
      "      (2): Linear(in_features=256, out_features=256, bias=True)\n",
      "      (3): Tanh()\n",
      "      (4): Linear(in_features=256, out_features=1, bias=True)\n",
      "    )\n",
      "    (qf1): Sequential(\n",
      "      (0): Linear(in_features=66, out_features=256, bias=True)\n",
      "      (1): Tanh()\n",
      "      (2): Linear(in_features=256, out_features=256, bias=True)\n",
      "      (3): Tanh()\n",
      "      (4): Linear(in_features=256, out_features=1, bias=True)\n",
      "    )\n",
      "  )\n",
      ")\n"
     ]
    }
   ],
   "source": [
    "print(model.policy)"
   ]
  },
  {
   "cell_type": "code",
   "execution_count": null,
   "metadata": {},
   "outputs": [],
   "source": [
    "# from stable_baselines3.common.evaluation import evaluate_policy\n",
    "\n",
    "# episode_rewards, episode_lengths = evaluate_policy(\n",
    "#                 model,\n",
    "#                 eval_env,\n",
    "#                 n_eval_episodes= rl_params[\"n_eval_episodes\"],\n",
    "#                 render=False,\n",
    "#                 deterministic=True,\n",
    "#                 return_episode_rewards=True\n",
    "#             )\n"
   ]
  },
  {
   "cell_type": "code",
   "execution_count": null,
   "metadata": {},
   "outputs": [],
   "source": [
    "# import stable_baselines3 as sb3\n",
    "\n",
    "# # save a model\n",
    "# model_path = os.path.join(\"/home/qt21590/Documents/Projects/tactile_gym_mbrl/models/tactile_gym_mfrl\", \"sample_model\")\n",
    "# model.save(model_path)\n",
    "# loaded_model = sb3.PPO.load(model_path)"
   ]
  },
  {
   "cell_type": "code",
   "execution_count": 13,
   "metadata": {},
   "outputs": [
    {
     "data": {
      "application/vnd.jupyter.widget-view+json": {
       "model_id": "0b16221bc2e84995a4c9e02ada671ec2",
       "version_major": 2,
       "version_minor": 0
      },
      "text/plain": [
       "  0%|          | 0/2000000 [00:00<?, ?it/s]"
      ]
     },
     "metadata": {},
     "output_type": "display_data"
    },
    {
     "data": {
      "image/png": "[encoded data removed]",
      "text/plain": [
       "<Figure size 720x432 with 4 Axes>"
      ]
     },
     "metadata": {
      "needs_background": "light"
     },
     "output_type": "display_data"
    },
    {
     "name": "stdout",
     "output_type": "stream",
     "text": [
      "---------------------------------\n",
      "| rollout/           |          |\n",
      "|    ep_len_mean     | 1e+03    |\n",
      "|    ep_rew_mean     | -688     |\n",
      "| time/              |          |\n",
      "|    episodes        | 4        |\n",
      "|    fps             | 303      |\n",
      "|    time_elapsed    | 13       |\n",
      "|    total_timesteps | 4000     |\n",
      "---------------------------------\n"
     ]
    },
    {
     "ename": "KeyboardInterrupt",
     "evalue": "",
     "output_type": "error",
     "traceback": [
      "\u001b[0;31m---------------------------------------------------------------------------\u001b[0m",
      "\u001b[0;31mKeyboardInterrupt\u001b[0m                         Traceback (most recent call last)",
      "\u001b[1;32m/home/qt21590/Documents/Projects/tactile_gym_mbrl/tactile_gym_dev/tactile_gym/sb3_helpers/simple_train_agent.ipynb Cell 20\u001b[0m in \u001b[0;36m<cell line: 2>\u001b[0;34m()\u001b[0m\n\u001b[1;32m      <a href='vscode-notebook-cell://ssh-remote%2Bdaffyduck/home/qt21590/Documents/Projects/tactile_gym_mbrl/tactile_gym_dev/tactile_gym/sb3_helpers/simple_train_agent.ipynb#X25sdnNjb2RlLXJlbW90ZQ%3D%3D?line=0'>1</a>\u001b[0m \u001b[39m# train an agent\u001b[39;00m\n\u001b[1;32m      <a href='vscode-notebook-cell://ssh-remote%2Bdaffyduck/home/qt21590/Documents/Projects/tactile_gym_mbrl/tactile_gym_dev/tactile_gym/sb3_helpers/simple_train_agent.ipynb#X25sdnNjb2RlLXJlbW90ZQ%3D%3D?line=1'>2</a>\u001b[0m \u001b[39mwith\u001b[39;00m ProgressBarManager(\n\u001b[1;32m      <a href='vscode-notebook-cell://ssh-remote%2Bdaffyduck/home/qt21590/Documents/Projects/tactile_gym_mbrl/tactile_gym_dev/tactile_gym/sb3_helpers/simple_train_agent.ipynb#X25sdnNjb2RlLXJlbW90ZQ%3D%3D?line=2'>3</a>\u001b[0m     rl_params[\u001b[39m\"\u001b[39m\u001b[39mtotal_timesteps\u001b[39m\u001b[39m\"\u001b[39m]\n\u001b[1;32m      <a href='vscode-notebook-cell://ssh-remote%2Bdaffyduck/home/qt21590/Documents/Projects/tactile_gym_mbrl/tactile_gym_dev/tactile_gym/sb3_helpers/simple_train_agent.ipynb#X25sdnNjb2RlLXJlbW90ZQ%3D%3D?line=3'>4</a>\u001b[0m ) \u001b[39mas\u001b[39;00m progress_bar_callback:\n\u001b[0;32m----> <a href='vscode-notebook-cell://ssh-remote%2Bdaffyduck/home/qt21590/Documents/Projects/tactile_gym_mbrl/tactile_gym_dev/tactile_gym/sb3_helpers/simple_train_agent.ipynb#X25sdnNjb2RlLXJlbW90ZQ%3D%3D?line=4'>5</a>\u001b[0m     model\u001b[39m.\u001b[39;49mlearn(\n\u001b[1;32m      <a href='vscode-notebook-cell://ssh-remote%2Bdaffyduck/home/qt21590/Documents/Projects/tactile_gym_mbrl/tactile_gym_dev/tactile_gym/sb3_helpers/simple_train_agent.ipynb#X25sdnNjb2RlLXJlbW90ZQ%3D%3D?line=5'>6</a>\u001b[0m         total_timesteps\u001b[39m=\u001b[39;49mrl_params[\u001b[39m\"\u001b[39;49m\u001b[39mtotal_timesteps\u001b[39;49m\u001b[39m\"\u001b[39;49m],\n\u001b[1;32m      <a href='vscode-notebook-cell://ssh-remote%2Bdaffyduck/home/qt21590/Documents/Projects/tactile_gym_mbrl/tactile_gym_dev/tactile_gym/sb3_helpers/simple_train_agent.ipynb#X25sdnNjb2RlLXJlbW90ZQ%3D%3D?line=6'>7</a>\u001b[0m         callback\u001b[39m=\u001b[39;49m[progress_bar_callback, eval_callback, event_plotting_callback, print_callback],\n\u001b[1;32m      <a href='vscode-notebook-cell://ssh-remote%2Bdaffyduck/home/qt21590/Documents/Projects/tactile_gym_mbrl/tactile_gym_dev/tactile_gym/sb3_helpers/simple_train_agent.ipynb#X25sdnNjb2RlLXJlbW90ZQ%3D%3D?line=7'>8</a>\u001b[0m     )\n",
      "File \u001b[0;32m~/anaconda3/envs/tactile_gym_mbrl/lib/python3.9/site-packages/stable_baselines3/sac/sac.py:292\u001b[0m, in \u001b[0;36mSAC.learn\u001b[0;34m(self, total_timesteps, callback, log_interval, eval_env, eval_freq, n_eval_episodes, tb_log_name, eval_log_path, reset_num_timesteps)\u001b[0m\n\u001b[1;32m    279\u001b[0m \u001b[39mdef\u001b[39;00m \u001b[39mlearn\u001b[39m(\n\u001b[1;32m    280\u001b[0m     \u001b[39mself\u001b[39m,\n\u001b[1;32m    281\u001b[0m     total_timesteps: \u001b[39mint\u001b[39m,\n\u001b[0;32m   (...)\u001b[0m\n\u001b[1;32m    289\u001b[0m     reset_num_timesteps: \u001b[39mbool\u001b[39m \u001b[39m=\u001b[39m \u001b[39mTrue\u001b[39;00m,\n\u001b[1;32m    290\u001b[0m ) \u001b[39m-\u001b[39m\u001b[39m>\u001b[39m OffPolicyAlgorithm:\n\u001b[0;32m--> 292\u001b[0m     \u001b[39mreturn\u001b[39;00m \u001b[39msuper\u001b[39;49m(SAC, \u001b[39mself\u001b[39;49m)\u001b[39m.\u001b[39;49mlearn(\n\u001b[1;32m    293\u001b[0m         total_timesteps\u001b[39m=\u001b[39;49mtotal_timesteps,\n\u001b[1;32m    294\u001b[0m         callback\u001b[39m=\u001b[39;49mcallback,\n\u001b[1;32m    295\u001b[0m         log_interval\u001b[39m=\u001b[39;49mlog_interval,\n\u001b[1;32m    296\u001b[0m         eval_env\u001b[39m=\u001b[39;49meval_env,\n\u001b[1;32m    297\u001b[0m         eval_freq\u001b[39m=\u001b[39;49meval_freq,\n\u001b[1;32m    298\u001b[0m         n_eval_episodes\u001b[39m=\u001b[39;49mn_eval_episodes,\n\u001b[1;32m    299\u001b[0m         tb_log_name\u001b[39m=\u001b[39;49mtb_log_name,\n\u001b[1;32m    300\u001b[0m         eval_log_path\u001b[39m=\u001b[39;49meval_log_path,\n\u001b[1;32m    301\u001b[0m         reset_num_timesteps\u001b[39m=\u001b[39;49mreset_num_timesteps,\n\u001b[1;32m    302\u001b[0m     )\n",
      "File \u001b[0;32m~/anaconda3/envs/tactile_gym_mbrl/lib/python3.9/site-packages/stable_baselines3/common/off_policy_algorithm.py:354\u001b[0m, in \u001b[0;36mOffPolicyAlgorithm.learn\u001b[0;34m(self, total_timesteps, callback, log_interval, eval_env, eval_freq, n_eval_episodes, tb_log_name, eval_log_path, reset_num_timesteps)\u001b[0m\n\u001b[1;32m    351\u001b[0m callback\u001b[39m.\u001b[39mon_training_start(\u001b[39mlocals\u001b[39m(), \u001b[39mglobals\u001b[39m())\n\u001b[1;32m    353\u001b[0m \u001b[39mwhile\u001b[39;00m \u001b[39mself\u001b[39m\u001b[39m.\u001b[39mnum_timesteps \u001b[39m<\u001b[39m total_timesteps:\n\u001b[0;32m--> 354\u001b[0m     rollout \u001b[39m=\u001b[39m \u001b[39mself\u001b[39;49m\u001b[39m.\u001b[39;49mcollect_rollouts(\n\u001b[1;32m    355\u001b[0m         \u001b[39mself\u001b[39;49m\u001b[39m.\u001b[39;49menv,\n\u001b[1;32m    356\u001b[0m         train_freq\u001b[39m=\u001b[39;49m\u001b[39mself\u001b[39;49m\u001b[39m.\u001b[39;49mtrain_freq,\n\u001b[1;32m    357\u001b[0m         action_noise\u001b[39m=\u001b[39;49m\u001b[39mself\u001b[39;49m\u001b[39m.\u001b[39;49maction_noise,\n\u001b[1;32m    358\u001b[0m         callback\u001b[39m=\u001b[39;49mcallback,\n\u001b[1;32m    359\u001b[0m         learning_starts\u001b[39m=\u001b[39;49m\u001b[39mself\u001b[39;49m\u001b[39m.\u001b[39;49mlearning_starts,\n\u001b[1;32m    360\u001b[0m         replay_buffer\u001b[39m=\u001b[39;49m\u001b[39mself\u001b[39;49m\u001b[39m.\u001b[39;49mreplay_buffer,\n\u001b[1;32m    361\u001b[0m         log_interval\u001b[39m=\u001b[39;49mlog_interval,\n\u001b[1;32m    362\u001b[0m     )\n\u001b[1;32m    364\u001b[0m     \u001b[39mif\u001b[39;00m rollout\u001b[39m.\u001b[39mcontinue_training \u001b[39mis\u001b[39;00m \u001b[39mFalse\u001b[39;00m:\n\u001b[1;32m    365\u001b[0m         \u001b[39mbreak\u001b[39;00m\n",
      "File \u001b[0;32m~/anaconda3/envs/tactile_gym_mbrl/lib/python3.9/site-packages/stable_baselines3/common/off_policy_algorithm.py:587\u001b[0m, in \u001b[0;36mOffPolicyAlgorithm.collect_rollouts\u001b[0;34m(self, env, callback, train_freq, replay_buffer, action_noise, learning_starts, log_interval)\u001b[0m\n\u001b[1;32m    584\u001b[0m actions, buffer_actions \u001b[39m=\u001b[39m \u001b[39mself\u001b[39m\u001b[39m.\u001b[39m_sample_action(learning_starts, action_noise, env\u001b[39m.\u001b[39mnum_envs)\n\u001b[1;32m    586\u001b[0m \u001b[39m# Rescale and perform action\u001b[39;00m\n\u001b[0;32m--> 587\u001b[0m new_obs, rewards, dones, infos \u001b[39m=\u001b[39m env\u001b[39m.\u001b[39;49mstep(actions)\n\u001b[1;32m    589\u001b[0m \u001b[39mself\u001b[39m\u001b[39m.\u001b[39mnum_timesteps \u001b[39m+\u001b[39m\u001b[39m=\u001b[39m env\u001b[39m.\u001b[39mnum_envs\n\u001b[1;32m    590\u001b[0m num_collected_steps \u001b[39m+\u001b[39m\u001b[39m=\u001b[39m \u001b[39m1\u001b[39m\n",
      "File \u001b[0;32m~/anaconda3/envs/tactile_gym_mbrl/lib/python3.9/site-packages/stable_baselines3/common/vec_env/base_vec_env.py:162\u001b[0m, in \u001b[0;36mVecEnv.step\u001b[0;34m(self, actions)\u001b[0m\n\u001b[1;32m    155\u001b[0m \u001b[39m\"\"\"\u001b[39;00m\n\u001b[1;32m    156\u001b[0m \u001b[39mStep the environments with the given action\u001b[39;00m\n\u001b[1;32m    157\u001b[0m \n\u001b[1;32m    158\u001b[0m \u001b[39m:param actions: the action\u001b[39;00m\n\u001b[1;32m    159\u001b[0m \u001b[39m:return: observation, reward, done, information\u001b[39;00m\n\u001b[1;32m    160\u001b[0m \u001b[39m\"\"\"\u001b[39;00m\n\u001b[1;32m    161\u001b[0m \u001b[39mself\u001b[39m\u001b[39m.\u001b[39mstep_async(actions)\n\u001b[0;32m--> 162\u001b[0m \u001b[39mreturn\u001b[39;00m \u001b[39mself\u001b[39;49m\u001b[39m.\u001b[39;49mstep_wait()\n",
      "File \u001b[0;32m~/anaconda3/envs/tactile_gym_mbrl/lib/python3.9/site-packages/stable_baselines3/common/vec_env/dummy_vec_env.py:43\u001b[0m, in \u001b[0;36mDummyVecEnv.step_wait\u001b[0;34m(self)\u001b[0m\n\u001b[1;32m     41\u001b[0m \u001b[39mdef\u001b[39;00m \u001b[39mstep_wait\u001b[39m(\u001b[39mself\u001b[39m) \u001b[39m-\u001b[39m\u001b[39m>\u001b[39m VecEnvStepReturn:\n\u001b[1;32m     42\u001b[0m     \u001b[39mfor\u001b[39;00m env_idx \u001b[39min\u001b[39;00m \u001b[39mrange\u001b[39m(\u001b[39mself\u001b[39m\u001b[39m.\u001b[39mnum_envs):\n\u001b[0;32m---> 43\u001b[0m         obs, \u001b[39mself\u001b[39m\u001b[39m.\u001b[39mbuf_rews[env_idx], \u001b[39mself\u001b[39m\u001b[39m.\u001b[39mbuf_dones[env_idx], \u001b[39mself\u001b[39m\u001b[39m.\u001b[39mbuf_infos[env_idx] \u001b[39m=\u001b[39m \u001b[39mself\u001b[39;49m\u001b[39m.\u001b[39;49menvs[env_idx]\u001b[39m.\u001b[39;49mstep(\n\u001b[1;32m     44\u001b[0m             \u001b[39mself\u001b[39;49m\u001b[39m.\u001b[39;49mactions[env_idx]\n\u001b[1;32m     45\u001b[0m         )\n\u001b[1;32m     46\u001b[0m         \u001b[39mif\u001b[39;00m \u001b[39mself\u001b[39m\u001b[39m.\u001b[39mbuf_dones[env_idx]:\n\u001b[1;32m     47\u001b[0m             \u001b[39m# save final observation where user can get it, then reset\u001b[39;00m\n\u001b[1;32m     48\u001b[0m             \u001b[39mself\u001b[39m\u001b[39m.\u001b[39mbuf_infos[env_idx][\u001b[39m\"\u001b[39m\u001b[39mterminal_observation\u001b[39m\u001b[39m\"\u001b[39m] \u001b[39m=\u001b[39m obs\n",
      "File \u001b[0;32m~/anaconda3/envs/tactile_gym_mbrl/lib/python3.9/site-packages/stable_baselines3/common/monitor.py:90\u001b[0m, in \u001b[0;36mMonitor.step\u001b[0;34m(self, action)\u001b[0m\n\u001b[1;32m     88\u001b[0m \u001b[39mif\u001b[39;00m \u001b[39mself\u001b[39m\u001b[39m.\u001b[39mneeds_reset:\n\u001b[1;32m     89\u001b[0m     \u001b[39mraise\u001b[39;00m \u001b[39mRuntimeError\u001b[39;00m(\u001b[39m\"\u001b[39m\u001b[39mTried to step environment that needs reset\u001b[39m\u001b[39m\"\u001b[39m)\n\u001b[0;32m---> 90\u001b[0m observation, reward, done, info \u001b[39m=\u001b[39m \u001b[39mself\u001b[39;49m\u001b[39m.\u001b[39;49menv\u001b[39m.\u001b[39;49mstep(action)\n\u001b[1;32m     91\u001b[0m \u001b[39mself\u001b[39m\u001b[39m.\u001b[39mrewards\u001b[39m.\u001b[39mappend(reward)\n\u001b[1;32m     92\u001b[0m \u001b[39mif\u001b[39;00m done:\n",
      "File \u001b[0;32m~/Documents/Projects/tactile_gym_mbrl/tactile_gym_dev/tactile_gym/rl_envs/base_tactile_env.py:364\u001b[0m, in \u001b[0;36mBaseTactileEnv.step\u001b[0;34m(self, action, count_step)\u001b[0m\n\u001b[1;32m    361\u001b[0m \u001b[39mif\u001b[39;00m count_step:\n\u001b[1;32m    362\u001b[0m     \u001b[39mself\u001b[39m\u001b[39m.\u001b[39m_env_step_counter \u001b[39m+\u001b[39m\u001b[39m=\u001b[39m \u001b[39m1\u001b[39m\n\u001b[0;32m--> 364\u001b[0m pybullet_steps, \u001b[39mself\u001b[39m\u001b[39m.\u001b[39mcontact_obs_after_action \u001b[39m=\u001b[39m \u001b[39mself\u001b[39;49m\u001b[39m.\u001b[39;49mrobot\u001b[39m.\u001b[39;49mapply_action(\n\u001b[1;32m    365\u001b[0m     input_actions,\n\u001b[1;32m    366\u001b[0m     control_mode\u001b[39m=\u001b[39;49m\u001b[39mself\u001b[39;49m\u001b[39m.\u001b[39;49mcontrol_mode,\n\u001b[1;32m    367\u001b[0m     velocity_action_repeat\u001b[39m=\u001b[39;49m\u001b[39mself\u001b[39;49m\u001b[39m.\u001b[39;49m_velocity_action_repeat,\n\u001b[1;32m    368\u001b[0m     max_steps\u001b[39m=\u001b[39;49m\u001b[39mself\u001b[39;49m\u001b[39m.\u001b[39;49m_max_blocking_pos_move_steps,\n\u001b[1;32m    369\u001b[0m )\n\u001b[1;32m    370\u001b[0m \u001b[39mif\u001b[39;00m \u001b[39mself\u001b[39m\u001b[39m.\u001b[39mdiscount_reached_goal_reward:\n\u001b[1;32m    371\u001b[0m     \u001b[39mself\u001b[39m\u001b[39m.\u001b[39mdiscounted_reached_goal_reward \u001b[39m*\u001b[39m\u001b[39m=\u001b[39m \u001b[39m0.999\u001b[39m\n",
      "File \u001b[0;32m~/Documents/Projects/tactile_gym_mbrl/tactile_gym_dev/tactile_gym/robots/arms/robot.py:171\u001b[0m, in \u001b[0;36mRobot.apply_action\u001b[0;34m(self, motor_commands, control_mode, velocity_action_repeat, max_steps)\u001b[0m\n\u001b[1;32m    167\u001b[0m final_contact_after_action \u001b[39m=\u001b[39m \u001b[39mNone\u001b[39;00m\n\u001b[1;32m    168\u001b[0m \u001b[39mif\u001b[39;00m control_mode \u001b[39m==\u001b[39m \u001b[39m\"\u001b[39m\u001b[39mTCP_position_control\u001b[39m\u001b[39m\"\u001b[39m:\n\u001b[1;32m    169\u001b[0m     \u001b[39m# repeatedly step the sim until a target pose is met or max iters\u001b[39;00m\n\u001b[1;32m    170\u001b[0m     \u001b[39m# self.blocking_move(max_steps=max_steps, constant_vel=None)\u001b[39;00m\n\u001b[0;32m--> 171\u001b[0m     pybullet_steps, final_contact_after_action \u001b[39m=\u001b[39m \u001b[39mself\u001b[39;49m\u001b[39m.\u001b[39;49mblocking_move(max_steps\u001b[39m=\u001b[39;49mmax_steps, constant_vel\u001b[39m=\u001b[39;49m\u001b[39m0.0004\u001b[39;49m)\n\u001b[1;32m    172\u001b[0m \u001b[39melif\u001b[39;00m control_mode \u001b[39m==\u001b[39m \u001b[39m\"\u001b[39m\u001b[39mTCP_velocity_control\u001b[39m\u001b[39m\"\u001b[39m:\n\u001b[1;32m    173\u001b[0m     \u001b[39m# apply the action for n steps to match control rate\u001b[39;00m\n\u001b[1;32m    174\u001b[0m     \u001b[39mfor\u001b[39;00m i \u001b[39min\u001b[39;00m \u001b[39mrange\u001b[39m(velocity_action_repeat):\n",
      "File \u001b[0;32m~/Documents/Projects/tactile_gym_mbrl/tactile_gym_dev/tactile_gym/robots/arms/robot.py:241\u001b[0m, in \u001b[0;36mRobot.blocking_move\u001b[0;34m(self, max_steps, constant_vel)\u001b[0m\n\u001b[1;32m    230\u001b[0m     \u001b[39mself\u001b[39m\u001b[39m.\u001b[39m_pb\u001b[39m.\u001b[39msetJointMotorControlArray(\n\u001b[1;32m    231\u001b[0m         \u001b[39mself\u001b[39m\u001b[39m.\u001b[39mrobot_id,\n\u001b[1;32m    232\u001b[0m         \u001b[39mself\u001b[39m\u001b[39m.\u001b[39marm\u001b[39m.\u001b[39mcontrol_joint_ids,\n\u001b[0;32m   (...)\u001b[0m\n\u001b[1;32m    237\u001b[0m         velocityGains\u001b[39m=\u001b[39m [\u001b[39mself\u001b[39m\u001b[39m.\u001b[39marm\u001b[39m.\u001b[39mvel_gain] \u001b[39m*\u001b[39m \u001b[39mself\u001b[39m\u001b[39m.\u001b[39marm\u001b[39m.\u001b[39mnum_control_dofs\n\u001b[1;32m    238\u001b[0m     )\n\u001b[1;32m    240\u001b[0m \u001b[39m# step the simulation\u001b[39;00m\n\u001b[0;32m--> 241\u001b[0m \u001b[39mself\u001b[39;49m\u001b[39m.\u001b[39;49mstep_sim()\n\u001b[1;32m    242\u001b[0m pybullet_steps \u001b[39m+\u001b[39m\u001b[39m=\u001b[39m \u001b[39m1\u001b[39m\n\u001b[1;32m    244\u001b[0m \u001b[39m# Get contact information at every step of the simulation\u001b[39;00m\n",
      "File \u001b[0;32m~/Documents/Projects/tactile_gym_mbrl/tactile_gym_dev/tactile_gym/robots/arms/robot.py:132\u001b[0m, in \u001b[0;36mRobot.step_sim\u001b[0;34m(self)\u001b[0m\n\u001b[1;32m    129\u001b[0m \u001b[39mself\u001b[39m\u001b[39m.\u001b[39marm\u001b[39m.\u001b[39mapply_gravity_compensation()\n\u001b[1;32m    131\u001b[0m \u001b[39m# step the simulation\u001b[39;00m\n\u001b[0;32m--> 132\u001b[0m \u001b[39mself\u001b[39;49m\u001b[39m.\u001b[39;49m_pb\u001b[39m.\u001b[39;49mstepSimulation()\n",
      "\u001b[0;31mKeyboardInterrupt\u001b[0m: "
     ]
    }
   ],
   "source": [
    "# train an agent\n",
    "with ProgressBarManager(\n",
    "    rl_params[\"total_timesteps\"]\n",
    ") as progress_bar_callback:\n",
    "    model.learn(\n",
    "        total_timesteps=rl_params[\"total_timesteps\"],\n",
    "        callback=[progress_bar_callback, eval_callback, event_plotting_callback, print_callback],\n",
    "    )\n",
    "\n",
    "# train an agent with specific steps\n",
    "# continue_training_steps = 400000\n",
    "# with ProgressBarManager(\n",
    "#     continue_training_steps\n",
    "# ) as progress_bar_callback:\n",
    "#     model.learn(\n",
    "#         total_timesteps=continue_training_steps,\n",
    "#         callback=[progress_bar_callback, eval_callback, event_plotting_callback, print_callback],\n",
    "#     )"
   ]
  },
  {
   "cell_type": "code",
   "execution_count": null,
   "metadata": {},
   "outputs": [],
   "source": [
    "batch_size = 512\n",
    "if model.replay_buffer.full:\n",
    "    episode_indices = (\n",
    "        np.random.randint(1, model.replay_buffer.n_episodes_stored, batch_size) + model.replay_buffer.pos\n",
    "    ) % model.replay_buffer.n_episodes_stored\n",
    "else:\n",
    "    episode_indices = np.random.randint(0, model.replay_buffer.n_episodes_stored, batch_size)\n",
    "# A subset of the transitions will be relabeled using HER algorithm\n",
    "her_indices = np.arange(batch_size)[: int(model.replay_buffer.her_ratio * batch_size)]\n",
    " \n",
    "ep_lengths = model.replay_buffer.episode_lengths[episode_indices]\n",
    "\n",
    "her_indices = her_indices[ep_lengths[her_indices] > 1]\n",
    "ep_lengths[her_indices] -= 1\n",
    "\n",
    "transitions_indices = np.random.randint(ep_lengths)\n",
    "\n",
    "# get selected transitions\n",
    "transitions = {key:  model.replay_buffer._buffer[key][episode_indices, transitions_indices].copy() for key in  model.replay_buffer._buffer.keys()}\n",
    "\n",
    "# sample new desired goals and relabel the transitions\n",
    "new_goals =  model.replay_buffer.sample_goals(episode_indices, her_indices, transitions_indices)\n",
    "transitions[\"desired_goal\"][her_indices] = new_goals\n",
    "\n",
    "transitions[\"info\"] = np.array(\n",
    "    [\n",
    "        model.replay_buffer.info_buffer[episode_idx][transition_idx]\n",
    "        for episode_idx, transition_idx in zip(episode_indices, transitions_indices)\n",
    "    ]\n",
    ")\n",
    "\n",
    "transitions[\"reward\"][her_indices, 0] = model.replay_buffer.env.env_method(\n",
    "                \"compute_reward\",\n",
    "                # the new state depends on the previous state and action\n",
    "                # s_{t+1} = f(s_t, a_t)\n",
    "                # so the next_achieved_goal depends also on the previous state and action\n",
    "                # because we are in a GoalEnv:\n",
    "                # r_t = reward(s_t, a_t) = reward(next_achieved_goal, desired_goal)\n",
    "                # therefore we have to use \"next_achieved_goal\" and not \"achieved_goal\"\n",
    "                transitions[\"next_achieved_goal\"][her_indices, 0],\n",
    "                # here we use the new desired goal\n",
    "                transitions[\"desired_goal\"][her_indices, 0],\n",
    "                transitions[\"info\"][her_indices, 0],\n",
    "            )\n"
   ]
  },
  {
   "cell_type": "code",
   "execution_count": null,
   "metadata": {},
   "outputs": [
    {
     "data": {
      "text/plain": [
       "(409, 8)"
      ]
     },
     "execution_count": 24,
     "metadata": {},
     "output_type": "execute_result"
    }
   ],
   "source": [
    "reward = model.replay_buffer.env.env_method(\n",
    "                \"compute_reward\",\n",
    "                # the new state depends on the previous state and action\n",
    "                # s_{t+1} = f(s_t, a_t)\n",
    "                # so the next_achieved_goal depends also on the previous state and action\n",
    "                # because we are in a GoalEnv:\n",
    "                # r_t = reward(s_t, a_t) = reward(next_achieved_goal, desired_goal)\n",
    "                # therefore we have to use \"next_achieved_goal\" and not \"achieved_goal\"\n",
    "                transitions[\"next_achieved_goal\"][her_indices, 0],\n",
    "                # here we use the new desired goal\n",
    "                transitions[\"desired_goal\"][her_indices, 0],\n",
    "                transitions[\"info\"][her_indices, 0],\n",
    "            )\n",
    "transitions[\"next_achieved_goal\"][her_indices, 0].shape"
   ]
  },
  {
   "cell_type": "code",
   "execution_count": null,
   "metadata": {},
   "outputs": [
    {
     "data": {
      "text/plain": [
       "(409, 2)"
      ]
     },
     "execution_count": 27,
     "metadata": {},
     "output_type": "execute_result"
    }
   ],
   "source": [
    "(transitions[\"next_achieved_goal\"][her_indices, 0][:,4:6] * transitions[\"desired_goal\"][her_indices, 0][:,4:6]).shape"
   ]
  },
  {
   "cell_type": "code",
   "execution_count": null,
   "metadata": {},
   "outputs": [
    {
     "data": {
      "text/plain": [
       "(409,)"
      ]
     },
     "execution_count": 60,
     "metadata": {},
     "output_type": "execute_result"
    }
   ],
   "source": [
    "def get_pos_dist(pos_1, pos_2):\n",
    "    \"\"\"\n",
    "    Compute the L2 distance\n",
    "    \"\"\"\n",
    "    dist = np.linalg.norm(pos_1 - pos_2, axis=1)\n",
    "    return dist\n",
    "\n",
    "def get_orn_dist(orn_1, orn_2):\n",
    "        \"\"\"\n",
    "        Compute the orn distance.\n",
    "        \"\"\"\n",
    "        inner_product = np.sum(orn_1 * orn_2, axis=1)\n",
    "        dist = np.arccos(\n",
    "            np.clip(\n",
    "                (2 * (inner_product ** 2)) - 1,\n",
    "                -1, 1)\n",
    "        )\n",
    "        return dist\n",
    "\n",
    "# get_pos_dist(transitions[\"next_achieved_goal\"][her_indices, 0][:,4:6], transitions[\"desired_goal\"][her_indices, 0][:,4:6]).shape\n",
    "get_orn_dist(transitions[\"next_achieved_goal\"][her_indices, 0][:,4:6], transitions[\"desired_goal\"][her_indices, 0][:,4:6]).shape"
   ]
  },
  {
   "cell_type": "code",
   "execution_count": null,
   "metadata": {},
   "outputs": [
    {
     "name": "stdout",
     "output_type": "stream",
     "text": [
      "[0.120968]\n",
      "0.120968062328904\n",
      "[2.586713]\n",
      "[2.586713]\n",
      "[2.586713 2.586713]\n"
     ]
    }
   ],
   "source": [
    "pos = env.envs[0].cur_obj_pos_worldframe\n",
    "goal_pos = env.envs[0].goal_pos_worldframe\n",
    "orn = env.envs[0].cur_obj_orn_worldframe\n",
    "goal_orn = env.envs[0].goal_orn_worldframe\n",
    "print(get_pos_dist(np.expand_dims(pos,0), np.expand_dims(goal_pos,0)))\n",
    "print(env.envs[0].get_pos_dist(np.expand_dims(pos,0), np.expand_dims(goal_pos,0)))\n",
    "\n",
    "# print(get_orn_dist(orn, goal_orn))\n",
    "print(get_orn_dist(np.expand_dims(orn,0), np.expand_dims(goal_orn,0)))\n",
    "print(get_orn_dist(np.array([orn]), np.array([goal_orn])))\n",
    "\n",
    "# print(env.envs[0].get_orn_dist(np.expand_dims(orn,0), np.expand_dims(goal_orn,0)))\n",
    "\n",
    "orn_batch = np.array([orn, orn])\n",
    "goal_orn_batch = np.array([goal_orn, goal_orn])\n",
    "print(get_orn_dist(orn_batch, goal_orn_batch))"
   ]
  },
  {
   "cell_type": "code",
   "execution_count": null,
   "metadata": {},
   "outputs": [
    {
     "data": {
      "image/png": "[encoded data removed]",
      "text/plain": [
       "<Figure size 720x432 with 4 Axes>"
      ]
     },
     "metadata": {
      "needs_background": "dark"
     },
     "output_type": "display_data"
    }
   ],
   "source": [
    "plt.ion()\n",
    "fig, axs = plt.subplots(nrows=2, ncols=2, figsize=(10, 6))\n",
    "fig.tight_layout(pad=3.0)\n",
    "for (m,n), subplot in np.ndenumerate(axs):\n",
    "    subplot.xaxis.label.set_color('white')\n",
    "    subplot.yaxis.label.set_color('white')\n",
    "    subplot.tick_params(axis='x', colors='white')\n",
    "    subplot.tick_params(axis='y', colors='white')\n",
    "\n",
    "\n",
    "for ax in axs.flat:\n",
    "    ax.clear()\n",
    "\n",
    "plot_train_and_eval(save_dir, fig=fig, axs=axs, show_plot=False)\n",
    "for ax in axs.flat:\n",
    "    ax.relim()\n",
    "    ax.set_xlim([0, rl_params[\"total_timesteps\"]/2  * 1.15])\n",
    "    ax.autoscale_view(True, True, True)\n",
    "\n",
    "fig.canvas.draw()"
   ]
  },
  {
   "cell_type": "code",
   "execution_count": null,
   "metadata": {},
   "outputs": [
    {
     "name": "stdout",
     "output_type": "stream",
     "text": [
      "Destroy EGL OpenGL window.\n",
      "Destroy EGL OpenGL window.\n"
     ]
    }
   ],
   "source": [
    "# save the final model after training\n",
    "model.save(os.path.join(save_dir, \"trained_models\", \"final_model\"))\n",
    "env.close()\n",
    "eval_env.close()\n"
   ]
  },
  {
   "cell_type": "code",
   "execution_count": null,
   "metadata": {},
   "outputs": [],
   "source": [
    "from stable_baselines3.common.results_plotter import load_results, ts2xy\n",
    "from stable_baselines3.common import results_plotter\n",
    "\n",
    "results = load_results(save_dir)\n",
    "\n",
    "timesteps, _ = ts2xy(results, \"timesteps\")\n",
    "rewards = np.array(results[\"r\"])\n",
    "ep_lengths = np.array(results[\"l\"])"
   ]
  },
  {
   "cell_type": "code",
   "execution_count": null,
   "metadata": {},
   "outputs": [],
   "source": [
    "x_r, mean_rew = results_plotter.window_func(timesteps, rewards, 10, np.mean)"
   ]
  },
  {
   "cell_type": "code",
   "execution_count": null,
   "metadata": {},
   "outputs": [],
   "source": [
    "eval_data = np.load(os.path.join(save_dir, \"trained_models\", \"evaluations.npz\"))\n",
    "timesteps = eval_data[\"timesteps\"]\n",
    "rewards = eval_data[\"results\"]\n",
    "ep_lengths = eval_data[\"ep_lengths\"]"
   ]
  },
  {
   "cell_type": "code",
   "execution_count": null,
   "metadata": {},
   "outputs": [
    {
     "data": {
      "text/plain": [
       "array([[-2455.998017, -2241.137662, -3681.963024, -26.111338,\n",
       "        -2393.836135, -3188.915765, -2209.701687, -2098.672077,\n",
       "        -2379.963008, -3362.960308],\n",
       "       [-2207.375246, -1971.588480, -794.213671, -90.212560,\n",
       "        -3384.742599, -2081.137504, -32.464114, -3696.543274,\n",
       "        -2264.602996, -2107.164707]])"
      ]
     },
     "execution_count": 31,
     "metadata": {},
     "output_type": "execute_result"
    }
   ],
   "source": [
    "rewards"
   ]
  },
  {
   "cell_type": "code",
   "execution_count": null,
   "metadata": {},
   "outputs": [
    {
     "ename": "NameError",
     "evalue": "name 'save_dir' is not defined",
     "output_type": "error",
     "traceback": [
      "\u001b[0;31m---------------------------------------------------------------------------\u001b[0m",
      "\u001b[0;31mNameError\u001b[0m                                 Traceback (most recent call last)",
      "\u001b[1;32m/home/qt21590/Documents/Projects/tactile_gym_mbrl/tactile_gym_dev/tactile_gym/sb3_helpers/simple_train_agent.ipynb Cell 22\u001b[0m in \u001b[0;36m<cell line: 3>\u001b[0;34m()\u001b[0m\n\u001b[1;32m      <a href='vscode-notebook-cell://ssh-remote%2Bdaffyduck/home/qt21590/Documents/Projects/tactile_gym_mbrl/tactile_gym_dev/tactile_gym/sb3_helpers/simple_train_agent.ipynb#X30sdnNjb2RlLXJlbW90ZQ%3D%3D?line=0'>1</a>\u001b[0m \u001b[39mfrom\u001b[39;00m \u001b[39mtactile_gym\u001b[39;00m\u001b[39m.\u001b[39;00m\u001b[39mutils\u001b[39;00m\u001b[39m.\u001b[39;00m\u001b[39mgeneral_utils\u001b[39;00m \u001b[39mimport\u001b[39;00m load_json_obj\n\u001b[0;32m----> <a href='vscode-notebook-cell://ssh-remote%2Bdaffyduck/home/qt21590/Documents/Projects/tactile_gym_mbrl/tactile_gym_dev/tactile_gym/sb3_helpers/simple_train_agent.ipynb#X30sdnNjb2RlLXJlbW90ZQ%3D%3D?line=2'>3</a>\u001b[0m rl_params \u001b[39m=\u001b[39m load_json_obj(os\u001b[39m.\u001b[39mpath\u001b[39m.\u001b[39mjoin(save_dir, \u001b[39m\"\u001b[39m\u001b[39mrl_params\u001b[39m\u001b[39m\"\u001b[39m))\n\u001b[1;32m      <a href='vscode-notebook-cell://ssh-remote%2Bdaffyduck/home/qt21590/Documents/Projects/tactile_gym_mbrl/tactile_gym_dev/tactile_gym/sb3_helpers/simple_train_agent.ipynb#X30sdnNjb2RlLXJlbW90ZQ%3D%3D?line=3'>4</a>\u001b[0m algo_params \u001b[39m=\u001b[39m load_json_obj(os\u001b[39m.\u001b[39mpath\u001b[39m.\u001b[39mjoin(save_dir, \u001b[39m\"\u001b[39m\u001b[39malgo_params\u001b[39m\u001b[39m\"\u001b[39m))\n\u001b[1;32m      <a href='vscode-notebook-cell://ssh-remote%2Bdaffyduck/home/qt21590/Documents/Projects/tactile_gym_mbrl/tactile_gym_dev/tactile_gym/sb3_helpers/simple_train_agent.ipynb#X30sdnNjb2RlLXJlbW90ZQ%3D%3D?line=5'>6</a>\u001b[0m \u001b[39m# create the evaluation env\u001b[39;00m\n",
      "\u001b[0;31mNameError\u001b[0m: name 'save_dir' is not defined"
     ]
    }
   ],
   "source": [
    "from tactile_gym.utils.general_utils import load_json_obj\n",
    "\n",
    "rl_params = load_json_obj(os.path.join(save_dir, \"rl_params\"))\n",
    "algo_params = load_json_obj(os.path.join(save_dir, \"algo_params\"))\n",
    "\n",
    "# create the evaluation env\n",
    "rl_params[\"env_modes\"]['eval_mode'] = True\n",
    "rl_params[\"env_modes\"]['eval_num'] = rl_params[\"n_eval_episodes\"]\n",
    "eval_env = make_eval_env(\n",
    "    rl_params[\"env_name\"],\n",
    "    rl_params,\n",
    "    show_gui=show_gui,\n",
    "    show_tactile=show_tactile,\n",
    ")"
   ]
  },
  {
   "cell_type": "code",
   "execution_count": null,
   "metadata": {},
   "outputs": [
    {
     "name": "stdout",
     "output_type": "stream",
     "text": [
      "argv[0]=\n",
      "Loaded EGL 1.5 after reload.\n",
      "GL_VENDOR=NVIDIA Corporation\n",
      "GL_RENDERER=NVIDIA GeForce RTX 3090/PCIe/SSE2\n",
      "GL_VERSION=4.6.0 NVIDIA 495.29.05\n",
      "GL_SHADING_LANGUAGE_VERSION=4.60 NVIDIA\n",
      "Version = 4.6.0 NVIDIA 495.29.05\n",
      "Vendor = NVIDIA Corporation\n",
      "Renderer = NVIDIA GeForce RTX 3090/PCIe/SSE2\n",
      "ven = NVIDIA Corporation\n",
      "ven = NVIDIA Corporation\n",
      "Avg Ep Rew: -139.53003694705998, Avg Ep Len: 397.6\n",
      "Destroy EGL OpenGL window.\n"
     ]
    },
    {
     "data": {
      "text/plain": [
       "([-275.7985007815448,\n",
       "  -456.1032345172626,\n",
       "  -147.35427660746296,\n",
       "  -243.41405936709364,\n",
       "  -58.47860624914505,\n",
       "  -101.45467633861543,\n",
       "  -27.554614935606057,\n",
       "  -8.636748185189681,\n",
       "  -15.296969168070913,\n",
       "  -61.208683320608486],\n",
       " [437, 586, 321, 497, 302, 388, 370, 308, 341, 426])"
      ]
     },
     "execution_count": 2,
     "metadata": {},
     "output_type": "execute_result"
    }
   ],
   "source": [
    "# run final evaluation over 20 episodes and save a vid\n",
    "# save_dir = os.path.join(\n",
    "#     \"saved_models/\", rl_params[\"env_name\"], algo_name, \"s{}_{}\".format(rl_params[\"seed\"], rl_params[\"env_modes\"][\"observation_mode\"])\n",
    "# )\n",
    "\n",
    "# Local machine\n",
    "save_dir = r\"/home/qt21590/Documents/Projects/tactile_gym_mbrl/tactile_gym_dev/tactile_gym/sb3_helpers/saved_models/object_push-v0/sac/s1_tactile_pose_updated\"\n",
    "# Compute machine\n",
    "# save_dir = r\"/home/qt21590/Documents/Projects/tactile_gym_mbrl/tactile_gym_dev/models/push_ppo_oracle_reduced_terminate_early\"\n",
    "\n",
    "final_evaluation(\n",
    "    saved_model_dir=save_dir,\n",
    "    n_eval_episodes=10,\n",
    "    seed=None,\n",
    "    deterministic=True,\n",
    "    show_gui=False,\n",
    "    show_tactile=False,\n",
    "    render=True,\n",
    "    save_vid=True,\n",
    "    take_snapshot=False\n",
    ")\n"
   ]
  },
  {
   "cell_type": "code",
   "execution_count": null,
   "metadata": {},
   "outputs": [
    {
     "data": {
      "text/plain": [
       "[<matplotlib.lines.Line2D at 0x7f76f000e340>]"
      ]
     },
     "execution_count": 7,
     "metadata": {},
     "output_type": "execute_result"
    },
    {
     "data": {
      "image/png": "[encoded data removed]",
      "text/plain": [
       "<Figure size 432x288 with 1 Axes>"
      ]
     },
     "metadata": {
      "needs_background": "light"
     },
     "output_type": "display_data"
    }
   ],
   "source": [
    "goals = np.array([[-0.180000,-0.180000],\n",
    "                    [-0.180000, 0.180000],\n",
    "                    [-0.060000, -0.180000],\n",
    "                    [-0.060000, 0.180000],\n",
    "                    [0.060000, -0.180000],\n",
    "                    [0.060000, 0.180000],\n",
    "                    [0.180000, -0.180000],\n",
    "                    [0.180000, -0.060000],\n",
    "                    [0.180000, 0.060000],\n",
    "                    [0.180000, 0.180000]])\n",
    "\n",
    "\n",
    "plt.plot(goals[:, 0], goals[:, 1], 'x')"
   ]
  }
 ],
 "metadata": {
  "kernelspec": {
   "display_name": "Python 3.9.12 ('tactile_gym_mbrl')",
   "language": "python",
   "name": "python3"
  },
  "language_info": {
   "codemirror_mode": {
    "name": "ipython",
    "version": 3
   },
   "file_extension": ".py",
   "mimetype": "text/x-python",
   "name": "python",
   "nbconvert_exporter": "python",
   "pygments_lexer": "ipython3",
   "version": "3.9.12"
  },
  "orig_nbformat": 4,
  "vscode": {
   "interpreter": {
    "hash": "288c20f4f30562b85a793c8b692fd9c626a3a2ddfa32fea47b77030b2eed9a18"
   }
  }
 },
 "nbformat": 4,
 "nbformat_minor": 2
}
